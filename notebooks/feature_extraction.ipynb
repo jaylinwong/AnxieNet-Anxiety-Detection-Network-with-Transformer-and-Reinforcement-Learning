{
 "cells": [
  {
   "cell_type": "code",
   "execution_count": null,
   "metadata": {},
   "outputs": [],
   "source": [
    "# feature_extraction.ipynb\n",
    "\n",
    "import numpy as np\n",
    "import matplotlib.pyplot as plt\n",
    "from scipy.signal import welch\n",
    "import pywt"
   ]
  },
  {
   "cell_type": "markdown",
   "metadata": {},
   "source": [
    "如何从EEG信号中提取时域、频域、时频域特征\n",
    "此笔记本展示如何从EEG信号中提取时域特征（Hjorth特征）、频域特征（功率谱密度）以及时频域特征（小波变换）。"
   ]
  },
  {
   "cell_type": "code",
   "execution_count": null,
   "metadata": {},
   "outputs": [],
   "source": [
    "# 1. Hjorth特征提取\n",
    "def hjorth_parameters(data):\n",
    "    \"\"\"\n",
    "    提取Hjorth特征：活动性、迁移性和复杂性\n",
    "    \n",
    "    :param data: EEG数据\n",
    "    :return: Hjorth特征\n",
    "    \"\"\"\n",
    "    # 计算活动性、迁移性和复杂性\n",
    "    activity = np.var(data)  # 活动性：信号的方差\n",
    "    mobility = np.std(np.diff(data)) / np.std(data)  # 迁移性：信号的频率变化\n",
    "    complexity = np.std(np.diff(np.diff(data))) / np.std(np.diff(data))  # 复杂性：信号的变化率\n",
    "    return activity, mobility, complexity"
   ]
  },
  {
   "cell_type": "code",
   "execution_count": null,
   "metadata": {},
   "outputs": [],
   "source": [
    "# 2. 功率谱密度（频域特征）\n",
    "def power_spectral_density(data, fs=128):\n",
    "    \"\"\"\n",
    "    计算功率谱密度（PSD）\n",
    "    \n",
    "    :param data: EEG数据\n",
    "    :param fs: 采样频率\n",
    "    :return: 频谱与功率\n",
    "    \"\"\"\n",
    "    f, Pxx = welch(data, fs=fs, nperseg=256)\n",
    "    return f, Pxx\n"
   ]
  },
  {
   "cell_type": "code",
   "execution_count": null,
   "metadata": {},
   "outputs": [],
   "source": [
    "# 3. 小波变换（时频域特征）\n",
    "def wavelet_transform(data, wavelet='db4', level=5):\n",
    "    \"\"\"\n",
    "    小波变换提取特征\n",
    "    \n",
    "    :param data: EEG数据\n",
    "    :param wavelet: 小波类型\n",
    "    :param level: 分解层数\n",
    "    :return: 小波系数\n",
    "    \"\"\"\n",
    "    coeffs = pywt.wavedec(data, wavelet, level=level)\n",
    "    return coeffs"
   ]
  },
  {
   "cell_type": "code",
   "execution_count": null,
   "metadata": {},
   "outputs": [],
   "source": [
    "# 4. 示例：从预处理后的数据中提取特征\n",
    "preprocessed_data = np.random.randn(256)  # 这里用随机数据替代真实数据\n",
    "\n",
    "# Hjorth特征提取\n",
    "activity, mobility, complexity = hjorth_parameters(preprocessed_data)\n",
    "print(f'Hjorth Parameters - Activity: {activity}, Mobility: {mobility}, Complexity: {complexity}')\n",
    "\n",
    "# 功率谱密度\n",
    "f, Pxx = power_spectral_density(preprocessed_data)\n",
    "plt.figure(figsize=(10, 6))\n",
    "plt.semilogy(f, Pxx)\n",
    "plt.title('Power Spectral Density')\n",
    "plt.xlabel('Frequency (Hz)')\n",
    "plt.ylabel('Power')\n",
    "plt.show()\n",
    "\n",
    "# 小波变换\n",
    "coeffs = wavelet_transform(preprocessed_data)\n",
    "plt.figure(figsize=(10, 6))\n",
    "plt.plot(coeffs[0])\n",
    "plt.title('Wavelet Transform - Approximation Coefficients')\n",
    "plt.show()"
   ]
  }
 ],
 "metadata": {
  "kernelspec": {
   "display_name": "atdgnn",
   "language": "python",
   "name": "python3"
  },
  "language_info": {
   "name": "python",
   "version": "3.9.20"
  }
 },
 "nbformat": 4,
 "nbformat_minor": 2
}
