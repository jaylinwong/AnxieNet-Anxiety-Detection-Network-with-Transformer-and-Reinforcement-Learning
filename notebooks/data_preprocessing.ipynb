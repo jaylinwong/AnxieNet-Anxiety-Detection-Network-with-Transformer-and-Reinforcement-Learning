{
 "cells": [
  {
   "cell_type": "code",
   "execution_count": null,
   "metadata": {},
   "outputs": [],
   "source": [
    "# data_preprocessing.ipynb\n",
    "\n",
    "import os\n",
    "import mne\n",
    "import numpy as np\n",
    "import matplotlib.pyplot as plt\n",
    "from mne.preprocessing import ICA\n",
    "from sklearn.preprocessing import StandardScaler\n"
   ]
  },
  {
   "cell_type": "markdown",
   "metadata": {},
   "source": [
    "数据预处理的详细步骤和可视化\n",
    "这个笔记本主要执行数据加载、去噪和标准化处理，此外还包括数据可视化部分。\n",
    "\n",
    "python\n",
    "复制代码\n"
   ]
  },
  {
   "cell_type": "code",
   "execution_count": null,
   "metadata": {},
   "outputs": [],
   "source": [
    "# 1. 加载数据\n",
    "def load_raw_data(raw_data_path):\n",
    "    \"\"\"\n",
    "    加载原始EEG数据\n",
    "    支持两种格式：.edf (MNE库处理) 和 .mat (SciPy加载)\n",
    "    \n",
    "    :param raw_data_path: 原始数据所在路径\n",
    "    :return: EEG信号数据和相关元数据\n",
    "    \"\"\"\n",
    "    data = []\n",
    "    for filename in os.listdir(raw_data_path):\n",
    "        filepath = os.path.join(raw_data_path, filename)\n",
    "        if filepath.endswith('.edf'):\n",
    "            # 使用MNE库加载edf文件\n",
    "            raw = mne.io.read_raw_edf(filepath, preload=True)\n",
    "            data.append(raw)\n",
    "        elif filepath.endswith('.mat'):\n",
    "            # 使用SciPy加载mat文件\n",
    "            mat = sio.loadmat(filepath)\n",
    "            data.append(mat)\n",
    "    return data"
   ]
  },
  {
   "cell_type": "code",
   "execution_count": null,
   "metadata": {},
   "outputs": [],
   "source": [
    "# 2. 预处理数据（去噪、标准化）\n",
    "def preprocess_data(raw_data):\n",
    "    \"\"\"\n",
    "    对EEG数据进行去噪和标准化处理\n",
    "    \n",
    "    :param raw_data: 原始EEG数据\n",
    "    :return: 预处理后的EEG数据\n",
    "    \"\"\"\n",
    "    # 去伪影：应用ICA去眼动伪影\n",
    "    ica = ICA(n_components=20, random_state=97, max_iter=800)\n",
    "    ica.fit(raw_data)\n",
    "    raw_data_clean = ica.apply(raw_data)\n",
    "    \n",
    "    # 标准化：将EEG数据进行z-score标准化\n",
    "    raw_data_clean = raw_data_clean.get_data()\n",
    "    scaler = StandardScaler()\n",
    "    raw_data_clean = scaler.fit_transform(raw_data_clean.reshape(-1, raw_data_clean.shape[-1]))\n",
    "    \n",
    "    return raw_data_clean"
   ]
  },
  {
   "cell_type": "code",
   "execution_count": null,
   "metadata": {},
   "outputs": [],
   "source": [
    "# 3. 可视化原始数据与去伪影后的数据\n",
    "def plot_raw_data(raw_data, title='Raw EEG Data'):\n",
    "    \"\"\"\n",
    "    可视化EEG信号（原始数据）\n",
    "    \n",
    "    :param raw_data: EEG数据\n",
    "    :param title: 标题\n",
    "    \"\"\"\n",
    "    plt.figure(figsize=(10, 6))\n",
    "    raw_data.plot(title=title, show=True)\n"
   ]
  },
  {
   "cell_type": "code",
   "execution_count": null,
   "metadata": {},
   "outputs": [],
   "source": [
    "# 4. 示例：加载和预处理数据\n",
    "raw_data_path = 'path_to_raw_data/'  # 原始数据的路径\n",
    "raw_data = load_raw_data(raw_data_path)\n",
    "\n",
    "# 可视化原始数据\n",
    "plot_raw_data(raw_data[0], title=\"Original EEG Data\")\n",
    "\n",
    "# 预处理数据\n",
    "preprocessed_data = preprocess_data(raw_data[0])\n",
    "\n",
    "# 可视化去伪影后的数据\n",
    "plt.figure(figsize=(10, 6))\n",
    "plt.plot(preprocessed_data.T)\n",
    "plt.title('Preprocessed EEG Data')\n",
    "plt.show()"
   ]
  }
 ],
 "metadata": {
  "kernelspec": {
   "display_name": "atdgnn",
   "language": "python",
   "name": "python3"
  },
  "language_info": {
   "name": "python",
   "version": "3.9.20"
  }
 },
 "nbformat": 4,
 "nbformat_minor": 2
}
